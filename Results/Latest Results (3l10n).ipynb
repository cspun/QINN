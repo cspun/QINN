{
 "cells": [
  {
   "cell_type": "markdown",
   "metadata": {},
   "source": [
    "# <span style=\"background-color:lightblue\">DATA-DRIVEN SOLUTION</span>"
   ]
  },
  {
   "cell_type": "markdown",
   "metadata": {},
   "source": [
    "# Black-Scholes\n",
    "## 3 l 10 n:\n",
    "\n",
    "|<center>**$\\alpha$** | <center>**0**  |<center>**0.25**  |<center>**0.50**  |<center>**0.75**  |<center>**1**  |$\\space$|<center>**CV**|\n",
    "|:----------------:|:---:|:---:|:---:|:---:|:---:|:---:|:---:|\n",
    "|$\\space$ <br> $\\space$ | <center>**L2 error $u_{test}$**|<center>**L2 error $u_{test}$**|<center>**L2 error $u_{test}$**|<center>**L2 error $u_{test}$**|<center>**L2 error $u_{test}$**|$\\space$|<center>**L2 error $u_{test}$**|\n",
    "|**fold 1**|1.0001e-02 |9.5370e-03 |**9.3052e-03**|1.0324e-02 |1.0096e-02 |$\\space$| 9.3052e-03 ($\\alpha$ = 0.5)|\n",
    "|**fold 2**|1.5435e-02 |**1.0216e-02** |1.1009e-02 |1.2424e-02 |1.3447e-02 |$\\space$| 1.2424e-02 ($\\alpha$ = 0.75)|\n",
    "|**fold 3**|6.4544e-03 |6.7411e-03 |6.5363e-03 |**6.0134e-03**|6.0946e-03 |$\\space$| 6.7411e-03 ($\\alpha$ = 0.25)|\n",
    "|**fold 4**|1.2629e-02 |1.3091e-02 |1.4492e-02 |1.0473e-02 |**8.6557e-03** |$\\space$| 1.4492e-02 ($\\alpha$ = 0.5)|\n",
    "|**Average**<br> $\\space$|1.1566e-02|1.0219e-02|1.0811e-02|1.0067e-02|**9.8614e-03**|$\\space$|<center>1.1191e-02|\n",
    "\n",
    "\n",
    "filename: \n",
    "- BS_3_l_10_n_1_fold_constant_fitsolver_alpha_1_rep\n",
    "- BS_3_l_10_n_fold_1_constant_fitsolver_rep\n",
    "\n",
    "***\n",
    "\n"
   ]
  },
  {
   "cell_type": "markdown",
   "metadata": {},
   "source": [
    "# CEV\n",
    "## 3 l 10 n:\n",
    "\n",
    "|<center>**$\\alpha$** | <center>**0**  |<center>**0.25**  |<center>**0.50**  |<center>**0.75**  |<center>**1**  |$\\space$|<center>**CV**|\n",
    "|:----------------:|:---:|:---:|:---:|:---:|:---:|:---:|:---:|\n",
    "|$\\space$ <br> $\\space$ | <center>**L2 error $u_{test}$**|<center>**L2 error $u_{test}$**|<center>**L2 error $u_{test}$**|<center>**L2 error $u_{test}$**|<center>**L2 error $u_{test}$**|$\\space$|<center>**L2 error $u_{test}$**|\n",
    "|**fold 1**|1.0291e-02 |9.8458e-03|9.7814e-03 |1.0515e-02 |**7.0717e-03**|$\\space$| 9.8458e-03 ($\\alpha$ = 0.25 )|\n",
    "|**fold 2**|1.6393e-02 |**1.0029e-02**|1.2532e-02 |1.2625e-02 |1.3063e-02|$\\space$| 1.3063e-02 ($\\alpha$ = 1.00 )|\n",
    "|**fold 3**|7.6631e-03 |7.4954e-03|7.2361e-03 |6.5107e-03 |**5.5889e-03**|$\\space$| 7.2361e-03 ($\\alpha$ = 0.50 )|\n",
    "|**fold 4**|1.6896e-02 |1.6744e-02|1.3627e-02 |1.3558e-02 |**8.4698e-03**|$\\space$| 8.4698e-03 ($\\alpha$ = 1.00 )|\n",
    "|**Average**<br> $\\space$|1.3421e-02|1.1695e-02|1.1108e-02|1.1172e-02|**8.9022e-03**|$\\space$|<center>9.8217e-03|\n",
    "\n",
    "***\n",
    "\n",
    "filename:\n",
    "- CEV_3_l_10_n_1_fold_constant_fitsolver_alpha_1_rep\n",
    "- CEV_3_l_10_n_1_fold_constant_fitsolver_rep\n",
    "\n",
    "\n",
    "\n"
   ]
  },
  {
   "cell_type": "markdown",
   "metadata": {},
   "source": [
    "# <span style=\"background-color:lightblue\">DATA-DRIVEN nn</span>"
   ]
  },
  {
   "cell_type": "markdown",
   "metadata": {},
   "source": [
    "## Black Scholes\n",
    "## 3 l 10 n:\n",
    "\n",
    "|<center>**$\\alpha$** | <center>**0**  |<center>**0.25**  |<center>**0.50**  |<center>**0.75**  |<center>**1**  |$\\space$|<center>**CV**|\n",
    "|:----------------:|:---:|:---:|:---:|:---:|:---:|:---:|:---:|\n",
    "|$\\space$ <br> $\\space$ | <center>**L2 error $u_{test}$**|<center>**L2 error $u_{test}$**|<center>**L2 error $u_{test}$**|<center>**L2 error $u_{test}$**|<center>**L2 error $u_{test}$**|$\\space$|<center>**L2 error $u_{test}$**|\n",
    "|**fold 1**|6.9668e-02 |1.0127e-02|8.1362e-03|**7.3690e-03**|1.0096e-02|$\\space$| 7.3690e-03 ($\\alpha$ = 0.75 )|\n",
    "|**fold 2**|6.7684e-02 |1.3765e-02|**9.4308e-03**|1.2145e-02|1.3447e-02|$\\space$| 9.4308e-03 ($\\alpha$ = 0.50 )|\n",
    "|**fold 3**|7.0396e-02 |5.9633e-03|5.8114e-03|**5.6101e-03**|6.0946e-03|$\\space$| 5.8114e-03 ($\\alpha$ = 0.50 )|\n",
    "|**fold 4**|6.9749e-02 |1.0421e-02|**5.7635e-03**|6.7983e-03|8.6557e-03|$\\space$| 6.7983e-03 ($\\alpha$ = 0.75 )|\n",
    "|**Average**<br> $\\space$|6.9413e-02|1.0393e-02|7.4008e-03|**8.2599e-03**|9.8614e-03|$\\space$|<center>7.4286e-03|\n",
    "\n",
    "\n",
    "filename:\n",
    "- BS_3_l_10_n_1_fold_nn_fitsolver_alpha_1_rep\n",
    "- BS_3_l_10_n_1_fold_nn_fitsolver_rep\n",
    "\n",
    "***\n"
   ]
  },
  {
   "cell_type": "markdown",
   "metadata": {},
   "source": [
    "## CEV\n",
    "## 3 l 10 n:\n",
    "\n",
    "\n",
    "|<center>**$\\alpha$** | <center>**0**  |<center>**0.25**  |<center>**0.50**  |<center>**0.75**  |<center>**1**  |$\\space$|<center>**CV**|\n",
    "|:----------------:|:---:|:---:|:---:|:---:|:---:|:---:|:---:|\n",
    "|$\\space$ <br> $\\space$ | <center>**L2 error $u_{test}$**|<center>**L2 error $u_{test}$**|<center>**L2 error $u_{test}$**|<center>**L2 error $u_{test}$**|<center>**L2 error $u_{test}$**|$\\space$|<center>**L2 error $u_{test}$**|\n",
    "|**fold 1**|6.8878e-02 |1.0437e-02|8.1294e-03 |7.6234e-03 |**7.0717e-03** |$\\space$| 8.1294e-03 ($\\alpha$ = 0.50 )|\n",
    "|**fold 2**|6.7722e-02 |1.3252e-02|**1.1512e-02** |1.3005e-02 |1.3063e-02 |$\\space$| 1.3005e-02 ($\\alpha$ = 0.75 )|\n",
    "|**fold 3**|7.0120e-02 |5.6164e-03|5.7729e-03 |5.8620e-03 |**5.5889e-03**|$\\space$| 5.8620e-03 ($\\alpha$ = 0.75 )|\n",
    "|**fold 4**|6.9754e-02 |6.4101e-03|**4.9799e-03**|6.3222e-03 |8.4698e-03 |$\\space$| 6.3222e-03 ($\\alpha$ = 0.75 )|\n",
    "|**Average**<br> $\\space$|6.9152e-02|9.3511e-03|**7.9065e-03**|8.5596e-03|8.9022e-03|$\\space$|<center>8.6784e-03|\n",
    "\n",
    "filename:\n",
    "- CEV_3_l_10_n_1_fold_nn_fitsolver_alpha_1_rep\n",
    "- CEV_3_l_10_n_1_fold_nn_fitsolver_rep\n",
    "\n",
    "\n",
    "***\n"
   ]
  }
 ],
 "metadata": {
  "kernelspec": {
   "display_name": "Python 3",
   "language": "python",
   "name": "python3"
  },
  "language_info": {
   "codemirror_mode": {
    "name": "ipython",
    "version": 3
   },
   "file_extension": ".py",
   "mimetype": "text/x-python",
   "name": "python",
   "nbconvert_exporter": "python",
   "pygments_lexer": "ipython3",
   "version": "3.7.4"
  }
 },
 "nbformat": 4,
 "nbformat_minor": 2
}
