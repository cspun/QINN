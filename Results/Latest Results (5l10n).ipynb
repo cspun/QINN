{
 "cells": [
  {
   "cell_type": "markdown",
   "metadata": {},
   "source": [
    "# <span style=\"background-color:lightblue\">DATA-DRIVEN SOLUTION</span>"
   ]
  },
  {
   "cell_type": "markdown",
   "metadata": {},
   "source": [
    "# Heston\n",
    "## 5 l 10 n:\n",
    "\n",
    "\n",
    "|<center>**$\\alpha$** | <center>**0**  |<center>**0.25**  |<center>**0.50**  |<center>**0.75**  |<center>**1**  |$\\space$|<center>**CV**|\n",
    "|:----------------:|:---:|:---:|:---:|:---:|:---:|:---:|:---:|\n",
    "|$\\space$ <br> $\\space$ | <center>**L2 error $u_{test}$**|<center>**L2 error $u_{test}$**|<center>**L2 error $u_{test}$**|<center>**L2 error $u_{test}$**|<center>**L2 error $u_{test}$**|$\\space$|<center>**L2 error $u_{test}$**|\n",
    "|<center>**fold 1**| 8.8889e-03 | 8.8706e-03 | **8.3052e-03** | 8.9913e-03 | 9.5357e-03 |$\\space$|8.3052e-03 ($\\alpha$ = 0.5) |\n",
    "|<center>**fold 2**| 7.8043e-03 | **7.5181e-03** | 8.0592e-03 | 7.8186e-03 | 1.1049e-02 |$\\space$|8.0592e-03 ($\\alpha$ = 0.5) |\n",
    "|<center>**fold 3**| 7.8638e-03 | 7.6306e-03 | 7.5000e-03 | **7.2808e-03** | 1.1489e-02 |$\\space$|7.5000e-03 ($\\alpha$ = 0.5) |\n",
    "|<center>**fold 4**| 6.9053e-03 | 6.8209e-03 | **6.7537e-03** | 6.9507e-03 | 1.0798e-02 |$\\space$|6.7537e-03 ($\\alpha$ = 0.5) |\n",
    "|<center>**Average**<br> $\\space$| 7.8930e-03 | 7.7424e-03 | **7.6738e-03** | 7.7979e-03 | 1.0738e-02 |$\\space$|7.6738e-03 |\n",
    "\n",
    "***\n",
    "\n",
    "filename: \n",
    "- Heston_5_l_10_n_1_constant_fitsolver_alpha_1_rep_v(with_train)\n",
    "- Ht_5_l_10_n_%d_fold_constant_fitsolver_rep_v(with_train)\n"
   ]
  },
  {
   "cell_type": "markdown",
   "metadata": {},
   "source": [
    "# GARCH\n",
    "## 5 l 10 n:\n",
    "\n",
    "\n",
    "|<center>**$\\alpha$** | <center>**0**  |<center>**0.25**  |<center>**0.50**  |<center>**0.75**  |<center>**1**  |$\\space$|<center>**CV**|\n",
    "|:----------------:|:---:|:---:|:---:|:---:|:---:|:---:|:---:|\n",
    "|$\\space$ <br> $\\space$ | <center>**L2 error $u_{test}$**|<center>**L2 error $u_{test}$**|<center>**L2 error $u_{test}$**|<center>**L2 error $u_{test}$**|<center>**L2 error $u_{test}$**|$\\space$|<center>**L2 error $u_{test}$**|\n",
    "|<center>**fold 1**| 8.2508e-03 | 8.3401e-03|**8.0451e-03** |9.3296e-03 |1.0235e-02 |$\\space$|8.3401e-03 ($\\alpha$ = 0.25) |\n",
    "|<center>**fold 2**| 7.8889e-03 | **7.5203e-03**|7.6172e-03 |8.3083e-03 |1.0449e-02 |$\\space$|7.6172e-03 ($\\alpha$ = 0.50) |\n",
    "|<center>**fold 3**| 7.3474e-03 | 8.0327e-03|7.8873e-03 |**7.2016e-03** |1.1368e-02 |$\\space$|8.0327e-03 ($\\alpha$ = 0.25) |\n",
    "|<center>**fold 4**| 6.8726e-03 | 6.7395e-03|**6.5038e-03** |6.7015e-03 |9.7570e-03 |$\\space$|6.7395e-03 ($\\alpha$ = 0.25) |\n",
    "|<center>**Average**<br> $\\space$| 7.6055e-03| 7.6765e-03|**7.5310e-03** |7.9481e-03 | 1.0461e-02|$\\space$|7.7002e-03 |\n",
    "\n",
    "***\n",
    "\n",
    "filename: \n",
    "- GARCH_5_l_10_n_%d_constant_fitsolver_alpha_%d_rep_v(with_train)\n",
    "- GARCH_5_l_10_n_%d_fold_constant_fitsolver_rep_v(with_train)\n"
   ]
  },
  {
   "cell_type": "markdown",
   "metadata": {},
   "source": [
    "# 3/2\n",
    "## 5 l 10 n:\n",
    "\n",
    "|<center>**$\\alpha$** | <center>**0**  |<center>**0.25**  |<center>**0.50**  |<center>**0.75**  |<center>**1**  |$\\space$|<center>**CV**|\n",
    "|:----------------:|:---:|:---:|:---:|:---:|:---:|:---:|:---:|\n",
    "|$\\space$ <br> $\\space$ | <center>**L2 error $u_{test}$**|<center>**L2 error $u_{test}$**|<center>**L2 error $u_{test}$**|<center>**L2 error $u_{test}$**|<center>**L2 error $u_{test}$**|$\\space$|<center>**L2 error $u_{test}$**|\n",
    "|<center>**fold 1**|1.0597e-02 |**1.0084e-02**|1.0087e-02 | 1.1310e-02|1.3114e-02|$\\space$|1.0084e-02 ($\\alpha$ = 0.25)|\n",
    "|<center>**fold 2**|9.8526e-03 |**9.3749e-03**|9.4112e-03 | 1.0030e-02|1.4221e-02|$\\space$|9.3749e-03 ($\\alpha$ = 0.25)|\n",
    "|<center>**fold 3**|9.5207e-03 |9.7290e-03|**9.0711e-03** | 9.3187e-03|1.4282e-02|$\\space$|9.5207e-03 ($\\alpha$ = 0.00)|\n",
    "|<center>**fold 4**|8.8537e-03 |**8.3369e-03**|8.5373e-03 | 9.2422e-03|1.4156e-02|$\\space$|8.5373e-03 ($\\alpha$ = 0.50)|\n",
    "|<center>**Average**<br> $\\space$|9.7234e-03 | 9.3978e-03| **9.2913e-03**|1.0010e-02 | 1.3950e-02|$\\space$|9.3914e-03 |\n",
    "\n",
    "***\n",
    "\n",
    "filename: \n",
    "- Three_half_5_l_10_n_%d_constant_fitsolver_alpha_%d_rep_v(with_train)\n",
    "- Three_half_5_l_10_n_%d_fold_constant_fitsolver_rep_v(with_train)\n"
   ]
  },
  {
   "cell_type": "markdown",
   "metadata": {},
   "source": [
    "# <span style=\"background-color:lightblue\">DATA-DRIVEN nn</span>"
   ]
  },
  {
   "cell_type": "markdown",
   "metadata": {},
   "source": [
    "# Heston\n",
    "## 5 l 10 n:\n",
    "\n",
    "\n",
    "|<center>**$\\alpha$** | <center>**0**  |<center>**0.25**  |<center>**0.50**  |<center>**0.75**  |<center>**1**  |$\\space$|<center>**CV**|\n",
    "|:----------------:|:---:|:---:|:---:|:---:|:---:|:---:|:---:|\n",
    "|$\\space$ <br> $\\space$ | <center>**L2 error $u_{test}$**|<center>**L2 error $u_{test}$**|<center>**L2 error $u_{test}$**|<center>**L2 error $u_{test}$**|<center>**L2 error $u_{test}$**|$\\space$|<center>**L2 error $u_{test}$**|\n",
    "|<center>**fold 1**| 1.9729e-02 | 7.0892e-03|7.7146e-03| **6.9120e-03**| 9.5358e-03|$\\space$|6.9120e-03 ($\\alpha$ = 0.75)|\n",
    "|<center>**fold 2**| 1.4380e-02 | 7.7929e-03|**7.1581e-03**| 7.4628e-03| 1.1049e-02|$\\space$|7.1581e-03 ($\\alpha$ = 0.50)|\n",
    "|<center>**fold 3**| 2.2008e-02 | 7.2832e-03|**7.0538e-03**| 6.9476e-03| 1.1489e-02|$\\space$|7.0538e-03 ($\\alpha$ = 0.50)|\n",
    "|<center>**fold 4**| 3.1947e-02 | 7.4035e-03|6.8417e-03|**6.5244e-03**| 1.0798e-02|$\\space$| 6.8417e-03 ($\\alpha$ = 0.50)|\n",
    "|<center>**Average**<br> $\\space$|2.2988e-02 | 7.3964e-03|7.1985e-03 |**6.9667e-03** |1.0738e-02 |$\\space$|6.9911e-03|\n",
    "\n",
    "***\n",
    "\n",
    "filename: \n",
    "- Ht_5_l_10_n_%d_fold_nn_fitsolver_alpha_%d_rep_v(with_train)\n",
    "- Heston_5_l_10_n_%d_fold_nn_fitsolver_rep_v(with_train)\n"
   ]
  },
  {
   "cell_type": "markdown",
   "metadata": {},
   "source": [
    "# GARCH\n",
    "## 5 l 10 n:\n",
    "\n",
    "\n",
    "|<center>**$\\alpha$** | <center>**0**  |<center>**0.25**  |<center>**0.50**  |<center>**0.75**  |<center>**1**  |$\\space$|<center>**CV**|\n",
    "|:----------------:|:---:|:---:|:---:|:---:|:---:|:---:|:---:|\n",
    "|$\\space$ <br> $\\space$ | <center>**L2 error $u_{test}$**|<center>**L2 error $u_{test}$**|<center>**L2 error $u_{test}$**|<center>**L2 error $u_{test}$**|<center>**L2 error $u_{test}$**|$\\space$|<center>**L2 error $u_{test}$**|\n",
    "|<center>**fold 1**|1.6801e-02 | 7.7448e-03|**6.7954e-03**| 7.0831e-03| 1.0235e-02|$\\space$ |6.7954e-03 ($\\alpha$ = 0.50) |\n",
    "|<center>**fold 2**|1.4528e-02 | 7.5127e-03|**7.2012e-03** | 7.4626e-03| 1.0449e-02|$\\space$|7.4626e-03 ($\\alpha$ = 0.75) |\n",
    "|<center>**fold 3**|2.4930e-02 | 7.0841e-03|**6.7710e-03** | 6.9075e-03| 1.1368e-02|$\\space$|6.7710e-03 ($\\alpha$ = 0.50) |\n",
    "|<center>**fold 4**|2.9873e-02 | 7.3091e-03|6.9193e-03 | **6.7525e-03**| 9.7570e-03|$\\space$|6.9193e-03 ($\\alpha$ = 0.50) |\n",
    "|<center>**Average**<br> $\\space$| 2.2441e-02|7.4177e-03 |**6.9240e-03** |7.0549e-03 |1.0461e-02 |$\\space$|6.9924e-03 |\n",
    "\n",
    "***\n",
    "\n",
    "filename: \n",
    "- GARCH_5_l_10_n_%d_fold_nn_fitsolver_alpha_%d_rep_v(with_train)\n",
    "- GARCH_5_l_10_n_%d_fold_nn_fitsolver_rep_v(with_train)\n"
   ]
  },
  {
   "cell_type": "markdown",
   "metadata": {},
   "source": [
    "# 3/2\n",
    "## 5 l 10 n:\n",
    "\n",
    "|<center>**$\\alpha$** | <center>**0**  |<center>**0.25**  |<center>**0.50**  |<center>**0.75**  |<center>**1**  |$\\space$|<center>**CV**|\n",
    "|:----------------:|:---:|:---:|:---:|:---:|:---:|:---:|:---:|\n",
    "|$\\space$ <br> $\\space$ | <center>**L2 error $u_{test}$**|<center>**L2 error $u_{test}$**|<center>**L2 error $u_{test}$**|<center>**L2 error $u_{test}$**|<center>**L2 error $u_{test}$**|$\\space$|<center>**L2 error $u_{test}$**|\n",
    "|<center>**fold 1**|2.9499e-02 |9.6863e-03|**7.9779e-03**| 8.8406e-03| 1.3114e-02|$\\space$| 7.9779e-03 ($\\alpha$ = 0.50) |\n",
    "|<center>**fold 2**|2.3137e-02 |8.4983e-03|**8.1050e-03**| 9.2411e-03| 1.4221e-02|$\\space$| 8.1050e-03 ($\\alpha$ = 0.50) |\n",
    "|<center>**fold 3**|3.0690e-02 |1.0213e-02|8.4445e-03| **8.3775e-03**| 1.4282e-02|$\\space$| 8.4445e-03 ($\\alpha$ = 0.50) |\n",
    "|<center>**fold 4**|3.9394e-02 |9.0681e-03|8.3187e-03| **7.8691e-03**| 1.4156e-02|$\\space$| 8.3187e-03 ($\\alpha$ = 0.50) |\n",
    "|<center>**Average**<br> $\\space$|3.1282e-02 | 9.3845e-03| **8.2130e-03**|8.5939e-03 |1.3950e-02|$\\space$| 8.2130e-03|\n",
    "\n",
    "***\n",
    "\n",
    "filename: \n",
    "- Three_half_5_l_10_n_%d_fold_nn_fitsolver_alpha_%d_rep_v(with_train)\n",
    "- Three_half_5_l_10_n_%d_fold_nn_fitsolver_rep_v(with_train)\n"
   ]
  },
  {
   "cell_type": "code",
   "execution_count": null,
   "metadata": {},
   "outputs": [],
   "source": [
    "import pickle\n",
    "import numpy as np\n",
    "\n",
    "Total_error_u_test_num = 0\n",
    "Total_error_u_test_den = 0\n",
    "\n",
    "for j in range(1,5):\n",
    "    file = open('BS_3_l_20_n_fold_%d_constant_fitsolver_rep'%(j),'rb')\n",
    "    data = pickle.load(file)\n",
    "    file.close()\n",
    "    \n",
    "    u_test_tot = data['u_test_tot']\n",
    "    u_test_pred = data['u_test_pred']\n",
    "    K_test_tot = data['K_test_tot']\n",
    "    alpha_opt = data['alpha']\n",
    "    \n",
    "    error_u_test_num = (np.linalg.norm(u_test_tot*K_test_tot-u_test_pred*K_test_tot))**2\n",
    "    error_u_test_den = (np.linalg.norm(u_test_tot*K_test_tot))**2\n",
    "    print('%.4e'%np.sqrt(error_u_test_num/error_u_test_den))\n",
    "    print('alpha_opt = %s'%alpha_opt)\n",
    "    print('\\n')\n",
    "    Total_error_u_test_num += error_u_test_num\n",
    "    Total_error_u_test_den += error_u_test_den\n",
    "    \n",
    "print('%.4e'%np.sqrt(Total_error_u_test_num/Total_error_u_test_den))\n",
    "\n"
   ]
  },
  {
   "cell_type": "code",
   "execution_count": 2,
   "metadata": {
    "collapsed": true
   },
   "outputs": [
    {
     "name": "stdout",
     "output_type": "stream",
     "text": [
      "8.2508e-03\n",
      "7.8889e-03\n",
      "7.3474e-03\n",
      "6.8726e-03\n",
      "7.6055e-03\n",
      "\n",
      "\n",
      "8.3401e-03\n",
      "7.5203e-03\n",
      "8.0327e-03\n",
      "6.7395e-03\n",
      "7.6765e-03\n",
      "\n",
      "\n",
      "8.0451e-03\n",
      "7.6172e-03\n",
      "7.8873e-03\n",
      "6.5038e-03\n",
      "7.5310e-03\n",
      "\n",
      "\n",
      "9.3296e-03\n",
      "8.3083e-03\n",
      "7.2016e-03\n",
      "6.7015e-03\n",
      "7.9481e-03\n",
      "\n",
      "\n",
      "1.0235e-02\n",
      "1.0449e-02\n",
      "1.1368e-02\n",
      "9.7570e-03\n",
      "1.0461e-02\n",
      "\n",
      "\n"
     ]
    }
   ],
   "source": [
    "import pickle\n",
    "import numpy as np\n",
    "for i in range(1,6):\n",
    "    \n",
    "    Total_error_u_test_num = 0\n",
    "    Total_error_u_test_den = 0\n",
    "    \n",
    "    for j in range(1,5):\n",
    "        file = open('GARCH_5_l_10_n_%d_constant_fitsolver_alpha_%d_rep_v(with_train)'%(j,i),'rb')\n",
    "        data = pickle.load(file)\n",
    "        file.close()\n",
    "        \n",
    "        u_test_tot = data['u_test_tot']\n",
    "        u_test_pred = data['u_test_pred']\n",
    "        K_test_tot = data['K_test_tot']\n",
    "        \n",
    "        error_u_test_num = (np.linalg.norm(u_test_tot*K_test_tot-u_test_pred*K_test_tot))**2\n",
    "        error_u_test_den = (np.linalg.norm(u_test_tot*K_test_tot))**2\n",
    "        print('%.4e'%np.sqrt(error_u_test_num/error_u_test_den))\n",
    "\n",
    "        Total_error_u_test_num += error_u_test_num\n",
    "        Total_error_u_test_den += error_u_test_den\n",
    "        \n",
    "    print('%.4e'%np.sqrt(Total_error_u_test_num/Total_error_u_test_den))\n",
    "    print('\\n')\n",
    "    "
   ]
  }
 ],
 "metadata": {
  "kernelspec": {
   "display_name": "Python 3",
   "language": "python",
   "name": "python3"
  },
  "language_info": {
   "codemirror_mode": {
    "name": "ipython",
    "version": 3
   },
   "file_extension": ".py",
   "mimetype": "text/x-python",
   "name": "python",
   "nbconvert_exporter": "python",
   "pygments_lexer": "ipython3",
   "version": "3.7.4"
  }
 },
 "nbformat": 4,
 "nbformat_minor": 2
}
