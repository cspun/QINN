{
 "cells": [
  {
   "cell_type": "markdown",
   "metadata": {},
   "source": [
    "# <span style=\"background-color:lightblue\">DATA-DRIVEN SOLUTION</span>"
   ]
  },
  {
   "cell_type": "markdown",
   "metadata": {},
   "source": [
    "# Heston\n",
    "## 5 l 20 n:\n",
    "\n",
    "\n",
    "|<center>**$\\alpha$** | <center>**0**  |<center>**0.25**  |<center>**0.50**  |<center>**0.75**  |<center>**1**  |$\\space$|<center>**CV**|\n",
    "|:----------------:|:---:|:---:|:---:|:---:|:---:|:---:|:---:|\n",
    "|$\\space$ <br> $\\space$ | <center>**L2 error $u_{test}$**|<center>**L2 error $u_{test}$**|<center>**L2 error $u_{test}$**|<center>**L2 error $u_{test}$**|<center>**L2 error $u_{test}$**|$\\space$|<center>**L2 error $u_{test}$**|\n",
    "|<center>**fold 1**| 6.6312e-03 | **6.3406e-03** | 6.3446e-03 | 6.5412e-03 | 9.4507e-03 |$\\space$|6.5412e-03 ($\\alpha$ = 0.75) |\n",
    "|<center>**fold 2**| 7.0817e-03 | 6.8370e-03 | **6.4541e-03** | 6.5845e-03 | 1.1398e-02 |$\\space$|6.4541e-03 ($\\alpha$ = 0.50) |\n",
    "|<center>**fold 3**| 6.4870e-03 | **6.2953e-03** | 6.4707e-03 | 6.3376e-03 | 9.8344e-03 |$\\space$|6.4707e-03 ($\\alpha$ = 0.50) |\n",
    "|<center>**fold 4**| 6.4262e-03 | 6.2021e-03 | 6.1090e-03 | **6.0235e-03** | 8.5792e-03 |$\\space$|6.1090e-03 ($\\alpha$ = 0.50) |\n",
    "|<center>**Average**<br> $\\space$| 6.6604e-03 | 6.4222e-03 | **6.3443e-03** | 6.3737e-03 | 9.8596e-03 |$\\space$|6.3942e-03 |\n",
    "\n",
    "***\n",
    "\n",
    "filename: \n",
    "- Heston_5_l_20_n_1_constant_fitsolver_alpha_1_rep_v(with_train)\n",
    "- Ht_5_l_20_n_%d_fold_constant_fitsolver_rep_v(with_train)\n"
   ]
  },
  {
   "cell_type": "markdown",
   "metadata": {},
   "source": [
    "# GARCH\n",
    "## 5 l 20 n:\n",
    "\n",
    "\n",
    "|<center>**$\\alpha$** | <center>**0**  |<center>**0.25**  |<center>**0.50**  |<center>**0.75**  |<center>**1**  |$\\space$|<center>**CV**|\n",
    "|:----------------:|:---:|:---:|:---:|:---:|:---:|:---:|:---:|\n",
    "|$\\space$ <br> $\\space$ | <center>**L2 error $u_{test}$**|<center>**L2 error $u_{test}$**|<center>**L2 error $u_{test}$**|<center>**L2 error $u_{test}$**|<center>**L2 error $u_{test}$**|$\\space$|<center>**L2 error $u_{test}$**|\n",
    "|<center>**fold 1**| 6.4052e-03 | 6.0959e-03|**6.0460e-03**|6.3464e-03|8.6370e-03 |$\\space$|6.0460e-03 ($\\alpha$ = 0.50) |\n",
    "|<center>**fold 2**| 6.9799e-03 | 6.7273e-03|**6.4927e-03**|6.6092e-03|1.0727e-02 |$\\space$|6.4927e-03 ($\\alpha$ = 0.50) |\n",
    "|<center>**fold 3**| 6.3084e-03 | **6.2285e-03**|6.2528e-03|6.2880e-03|9.1194e-03 |$\\space$|6.2528e-03 ($\\alpha$ = 0.50) |\n",
    "|<center>**fold 4**| 6.3819e-03 | 6.1848e-03|**6.0596e-03**|6.0931e-03|9.0969e-03 |$\\space$|6.0596e-03 ($\\alpha$ = 0.50) |\n",
    "|<center>**Average**<br> $\\space$|6.5238e-03 |6.3128e-03 |**6.2139e-03** |6.3354e-03|9.4256e-03 |$\\space$|6.2139e-03 |\n",
    "\n",
    "***\n",
    "\n",
    "filename: \n",
    "- GARCH_5_l_20_n_%d_constant_fitsolver_alpha_%d_rep_v(with_train)\n",
    "- GARCH_5_l_20_n_%d_fold_constant_fitsolver_rep_v(with_train)\n"
   ]
  },
  {
   "cell_type": "markdown",
   "metadata": {},
   "source": [
    "# 3/2\n",
    "## 5 l 20 n:\n",
    "\n",
    "|<center>**$\\alpha$** | <center>**0**  |<center>**0.25**  |<center>**0.50**  |<center>**0.75**  |<center>**1**  |$\\space$|<center>**CV**|\n",
    "|:----------------:|:---:|:---:|:---:|:---:|:---:|:---:|:---:|\n",
    "|$\\space$ <br> $\\space$ | <center>**L2 error $u_{test}$**|<center>**L2 error $u_{test}$**|<center>**L2 error $u_{test}$**|<center>**L2 error $u_{test}$**|<center>**L2 error $u_{test}$**|$\\space$|<center>**L2 error $u_{test}$**|\n",
    "|<center>**fold 1**| 8.3808e-03 | 7.7060e-03|**7.5053e-03**|8.6634e-03| 1.3382e-02|$\\space$|7.5053e-03 ($\\alpha$ = 0.50) |\n",
    "|<center>**fold 2**| 8.8042e-03 | 8.1654e-03|**8.1565e-03**|8.5775e-03| 1.4891e-02|$\\space$|8.1565e-03 ($\\alpha$ = 0.50) |\n",
    "|<center>**fold 3**| 8.7528e-03 | 8.2337e-03|**8.0318e-03**|8.3462e-03| 1.1979e-02|$\\space$|8.0318e-03 ($\\alpha$ = 0.50) |\n",
    "|<center>**fold 4**| 8.3060e-03 | 7.7188e-03|**7.6930e-03**|8.2211e-03| 1.2654e-02|$\\space$|7.6930e-03 ($\\alpha$ = 0.50) |\n",
    "|<center>**Average**<br> $\\space$|8.5611e-03 | 7.9568e-03|**7.8487e-03**|8.4532e-03 |1.3270e-02 |$\\space$|7.8487e-03 |\n",
    "\n",
    "***\n",
    "\n",
    "filename: \n",
    "- Three_half_5_l_20_n_%d_constant_fitsolver_alpha_%d_rep_v(with_train)\n",
    "- Three_half_5_l_20_n_%d_fold_constant_fitsolver_rep_v(with_train)\n"
   ]
  },
  {
   "cell_type": "markdown",
   "metadata": {},
   "source": [
    "# <span style=\"background-color:lightblue\">DATA-DRIVEN nn</span>"
   ]
  },
  {
   "cell_type": "markdown",
   "metadata": {},
   "source": [
    "# Heston\n",
    "## 5 l 20 n:\n",
    "\n",
    "\n",
    "|<center>**$\\alpha$** | <center>**0**  |<center>**0.25**  |<center>**0.50**  |<center>**0.75**  |<center>**1**  |$\\space$|<center>**CV**|\n",
    "|:----------------:|:---:|:---:|:---:|:---:|:---:|:---:|:---:|\n",
    "|$\\space$ <br> $\\space$ | <center>**L2 error $u_{test}$**|<center>**L2 error $u_{test}$**|<center>**L2 error $u_{test}$**|<center>**L2 error $u_{test}$**|<center>**L2 error $u_{test}$**|$\\space$|<center>**L2 error $u_{test}$**|\n",
    "|<center>**fold 1**| 4.2135e-02 |6.2962e-03|**5.7991e-03**|6.1576e-03|9.4642e-03 |$\\space$|5.7991e-03 ($\\alpha$ = 0.50) |\n",
    "|<center>**fold 2**| 4.2794e-02 |6.1649e-03|**6.1142e-03**|6.2202e-03|1.1401e-02 |$\\space$|6.1649e-03 ($\\alpha$ = 0.25) |\n",
    "|<center>**fold 3**| 2.7063e-02 |6.2901e-03|**6.0880e-03**|6.1922e-03|9.8280e-03 |$\\space$|6.0880e-03 ($\\alpha$ = 0.50) |\n",
    "|<center>**fold 4**| 4.3589e-02 |5.6401e-03|5.5005e-03|**5.4430e-03**|8.5806e-03 |$\\space$|5.5005e-03 ($\\alpha$ = 0.50) |\n",
    "|<center>**Average**<br> $\\space$| 3.9561e-02|6.1006e-03 |**5.8775e-03** | 6.0081e-03|9.8625e-03 |$\\space$|5.8906e-03 |\n",
    "\n",
    "***\n",
    "\n",
    "filename: \n",
    "- Ht_5_l_20_n_%d_fold_nn_fitsolver_alpha_%d_rep_v(with_train)\n",
    "- Heston_5_l_20_n_%d_fold_nn_fitsolver_rep_v(with_train)\n"
   ]
  },
  {
   "cell_type": "markdown",
   "metadata": {},
   "source": [
    "# GARCH\n",
    "## 5 l 20 n:\n",
    "\n",
    "\n",
    "|<center>**$\\alpha$** | <center>**0**  |<center>**0.25**  |<center>**0.50**  |<center>**0.75**  |<center>**1**  |$\\space$|<center>**CV**|\n",
    "|:----------------:|:---:|:---:|:---:|:---:|:---:|:---:|:---:|\n",
    "|$\\space$ <br> $\\space$ | <center>**L2 error $u_{test}$**|<center>**L2 error $u_{test}$**|<center>**L2 error $u_{test}$**|<center>**L2 error $u_{test}$**|<center>**L2 error $u_{test}$**|$\\space$|<center>**L2 error $u_{test}$**|\n",
    "|<center>**fold 1**| 5.0352e-02 |6.1030e-03|6.0704e-03|**5.8919e-03**| 8.6204e-03|$\\space$|6.0704e-03 ($\\alpha$ = 0.50) |\n",
    "|<center>**fold 2**| 4.3854e-02 |6.2641e-03|**5.9971e-03**|6.2360e-03| 1.0716e-02|$\\space$|6.2641e-03 ($\\alpha$ = 0.25) |\n",
    "|<center>**fold 3**| 4.2600e-02 |6.4129e-03|5.9004e-03|**5.8301e-03**| 9.1107e-03|$\\space$|5.9004e-03 ($\\alpha$ = 0.50) |\n",
    "|<center>**fold 4**| 3.8940e-02 |5.6661e-03|5.6012e-03|**5.5401e-03**| 9.0969e-03|$\\space$|5.6012e-03 ($\\alpha$ = 0.50) |\n",
    "|<center>**Average**<br> $\\space$|4.4115e-02 |6.1140e-03 | 5.8934e-03|**5.8777e-03** |9.4164e-03 |$\\space$|5.9621e-03 |\n",
    "\n",
    "***\n",
    "\n",
    "filename: \n",
    "- GARCH_5_l_20_n_%d_fold_nn_fitsolver_alpha_%d_rep_v(with_train)\n",
    "- GARCH_5_l_20_n_%d_fold_nn_fitsolver_rep_v(with_train)\n"
   ]
  },
  {
   "cell_type": "markdown",
   "metadata": {},
   "source": [
    "# 3/2\n",
    "## 5 l 20 n:\n",
    "\n",
    "|<center>**$\\alpha$** | <center>**0**  |<center>**0.25**  |<center>**0.50**  |<center>**0.75**  |<center>**1**  |$\\space$|<center>**CV**|\n",
    "|:----------------:|:---:|:---:|:---:|:---:|:---:|:---:|:---:|\n",
    "|$\\space$ <br> $\\space$ | <center>**L2 error $u_{test}$**|<center>**L2 error $u_{test}$**|<center>**L2 error $u_{test}$**|<center>**L2 error $u_{test}$**|<center>**L2 error $u_{test}$**|$\\space$|<center>**L2 error $u_{test}$**|\n",
    "|<center>**fold 1**| 5.0422e-02|7.0333e-03 | **6.9045e-03**|6.9500e-03|1.3382e-02|$\\space$|6.9045e-03 ($\\alpha$ = 0.50) |\n",
    "|<center>**fold 2**| 4.7358e-02|7.3035e-03 | 6.8551e-03|**6.7252e-03**|1.4891e-02|$\\space$|6.8551e-03 ($\\alpha$ = 0.50) |\n",
    "|<center>**fold 3**| 3.7228e-02|7.5830e-03 | 7.2294e-03|**6.8201e-03**|1.1979e-02|$\\space$|7.2294e-03 ($\\alpha$ = 0.50) |\n",
    "|<center>**fold 4**| 5.1790e-02|6.6383e-03 | 6.5990e-03|**6.4651e-03**|1.2654e-02|$\\space$|6.5990e-03 ($\\alpha$ = 0.50) |\n",
    "|<center>**Average**<br> $\\space$| 4.7114e-02|7.1432e-03 | 6.8977e-03|**6.7408e-03** | 1.3270e-02|$\\space$|6.8977e-03 |\n",
    "\n",
    "***\n",
    "\n",
    "filename: \n",
    "- Three_half_5_l_20_n_%d_fold_nn_fitsolver_alpha_%d_rep_v(with_train)\n",
    "- Three_half_5_l_20_n_%d_fold_nn_fitsolver_rep_v(with_train)"
   ]
  },
  {
   "cell_type": "code",
   "execution_count": null,
   "metadata": {},
   "outputs": [],
   "source": [
    "import pickle\n",
    "import numpy as np\n",
    "\n",
    "Total_error_u_test_num = 0\n",
    "Total_error_u_test_den = 0\n",
    "\n",
    "for j in range(1,5):\n",
    "    file = open('BS_3_l_20_n_fold_%d_constant_fitsolver_rep'%(j),'rb')\n",
    "    data = pickle.load(file)\n",
    "    file.close()\n",
    "    \n",
    "    u_test_tot = data['u_test_tot']\n",
    "    u_test_pred = data['u_test_pred']\n",
    "    K_test_tot = data['K_test_tot']\n",
    "    alpha_opt = data['alpha']\n",
    "    \n",
    "    error_u_test_num = (np.linalg.norm(u_test_tot*K_test_tot-u_test_pred*K_test_tot))**2\n",
    "    error_u_test_den = (np.linalg.norm(u_test_tot*K_test_tot))**2\n",
    "    print('%.4e'%np.sqrt(error_u_test_num/error_u_test_den))\n",
    "    print('alpha_opt = %s'%alpha_opt)\n",
    "    print('\\n')\n",
    "    Total_error_u_test_num += error_u_test_num\n",
    "    Total_error_u_test_den += error_u_test_den\n",
    "    \n",
    "print('%.4e'%np.sqrt(Total_error_u_test_num/Total_error_u_test_den))\n",
    "\n"
   ]
  },
  {
   "cell_type": "code",
   "execution_count": 12,
   "metadata": {
    "collapsed": true
   },
   "outputs": [
    {
     "name": "stdout",
     "output_type": "stream",
     "text": [
      "6.4052e-03\n",
      "6.9799e-03\n",
      "6.3084e-03\n",
      "6.3819e-03\n",
      "6.5238e-03\n",
      "\n",
      "\n",
      "6.0959e-03\n",
      "6.7273e-03\n",
      "6.2285e-03\n",
      "6.1848e-03\n",
      "6.3128e-03\n",
      "\n",
      "\n",
      "6.0460e-03\n",
      "6.4927e-03\n",
      "6.2528e-03\n",
      "6.0596e-03\n",
      "6.2139e-03\n",
      "\n",
      "\n",
      "6.3464e-03\n",
      "6.6092e-03\n",
      "6.2880e-03\n",
      "6.0931e-03\n",
      "6.3354e-03\n",
      "\n",
      "\n",
      "8.6370e-03\n",
      "1.0727e-02\n",
      "9.1194e-03\n",
      "9.0969e-03\n",
      "9.4256e-03\n",
      "\n",
      "\n"
     ]
    }
   ],
   "source": [
    "import pickle\n",
    "import numpy as np\n",
    "for i in range(1,6):\n",
    "    \n",
    "    Total_error_u_test_num = 0\n",
    "    Total_error_u_test_den = 0\n",
    "    \n",
    "    for j in range(1,5):\n",
    "        file = open('GARCH_5_l_20_n_%d_constant_fitsolver_alpha_%d_rep_v(with_train)'%(j,i),'rb')\n",
    "        data = pickle.load(file)\n",
    "        file.close()\n",
    "        \n",
    "        u_test_tot = data['u_test_tot']\n",
    "        u_test_pred = data['u_test_pred']\n",
    "        K_test_tot = data['K_test_tot']\n",
    "        \n",
    "        error_u_test_num = (np.linalg.norm(u_test_tot*K_test_tot-u_test_pred*K_test_tot))**2\n",
    "        error_u_test_den = (np.linalg.norm(u_test_tot*K_test_tot))**2\n",
    "        print('%.4e'%np.sqrt(error_u_test_num/error_u_test_den))\n",
    "\n",
    "        Total_error_u_test_num += error_u_test_num\n",
    "        Total_error_u_test_den += error_u_test_den\n",
    "        \n",
    "    print('%.4e'%np.sqrt(Total_error_u_test_num/Total_error_u_test_den))\n",
    "    print('\\n')\n",
    "    "
   ]
  }
 ],
 "metadata": {
  "kernelspec": {
   "display_name": "Python 3",
   "language": "python",
   "name": "python3"
  },
  "language_info": {
   "codemirror_mode": {
    "name": "ipython",
    "version": 3
   },
   "file_extension": ".py",
   "mimetype": "text/x-python",
   "name": "python",
   "nbconvert_exporter": "python",
   "pygments_lexer": "ipython3",
   "version": "3.7.4"
  }
 },
 "nbformat": 4,
 "nbformat_minor": 2
}
