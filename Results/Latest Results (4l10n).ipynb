{
 "cells": [
  {
   "cell_type": "markdown",
   "metadata": {},
   "source": [
    "# <span style=\"background-color:lightblue\">DATA-DRIVEN SOLUTION</span>"
   ]
  },
  {
   "cell_type": "markdown",
   "metadata": {},
   "source": [
    "# Black-Scholes\n",
    "## 4 l 10 n:\n",
    "\n",
    "|<center>**$\\alpha$** | <center>**0**  |<center>**0.25**  |<center>**0.50**  |<center>**0.75**  |<center>**1**  |$\\space$|<center>**CV**|\n",
    "|:----------------:|:---:|:---:|:---:|:---:|:---:|:---:|:---:|\n",
    "|$\\space$ <br> $\\space$ | <center>**L2 error $u_{test}$**|<center>**L2 error $u_{test}$**|<center>**L2 error $u_{test}$**|<center>**L2 error $u_{test}$**|<center>**L2 error $u_{test}$**|$\\space$|<center>**L2 error $u_{test}$**|\n",
    "|**fold 1**| 5.1417e-03 | 4.5414e-03 | **3.9983e-03** | 4.7617e-03 | 4.4134e-03 |$\\space$|4.4134e-03 ($\\alpha$ = 1.00)|\n",
    "|**fold 2**| **8.6427e-03** | 1.1124e-02 | 1.0005e-02 | 1.1677e-02 | 1.4593e-02 |$\\space$|1.0005e-02 ($\\alpha$ = 0.50)|\n",
    "|**fold 3**| 3.9708e-03 | 3.8205e-03 | **3.7178e-03** | 4.4686e-03 | 3.8462e-03 |$\\space$|3.7178e-03 ($\\alpha$ = 0.50)|\n",
    "|**fold 4**| 8.3864e-03 | **7.2163e-03** | 7.5595e-03 | 7.3028e-03 | 1.0567e-02 |$\\space$|7.2163e-03 ($\\alpha$ = 0.25)|\n",
    "|**Average**<br> $\\space$| 6.8380e-03 | 7.1762e-03 | **6.7808e-03** | 7.5234e-03 | 9.3743e-03 |$\\space$|<center>6.7471e-03|\n",
    "\n",
    "\n",
    "filename: \n",
    "- BS_4_l_10_n_1_fold_constant_fitsolver_alpha_1_rep\n",
    "- BS_4_l_10_n_fold_1_constant_fitsolver_rep\n",
    "\n",
    "***\n",
    "\n",
    "\n",
    "\n",
    "\n"
   ]
  },
  {
   "cell_type": "markdown",
   "metadata": {},
   "source": [
    "# Heston\n",
    "## 4 l 10 n:\n",
    "\n",
    "\n",
    "|<center>**$\\alpha$** | <center>**0**  |<center>**0.25**  |<center>**0.50**  |<center>**0.75**  |<center>**1**  |$\\space$|<center>**CV**|\n",
    "|:----------------:|:---:|:---:|:---:|:---:|:---:|:---:|:---:|\n",
    "|$\\space$ <br> $\\space$ | <center>**L2 error $u_{test}$**|<center>**L2 error $u_{test}$**|<center>**L2 error $u_{test}$**|<center>**L2 error $u_{test}$**|<center>**L2 error $u_{test}$**|$\\space$|<center>**L2 error $u_{test}$**|\n",
    "|<center>**fold 1**| 8.8327e-03 | **8.1494e-03** | 8.6273e-03 | 8.5515e-03 | 1.0542e-02 |$\\space$| 8.1494e-03 ($\\alpha$=0.25) |\n",
    "|<center>**fold 2**| 9.2609e-03 | 9.0454e-03 | **8.4776e-03** | 8.9349e-03 | 1.4579e-02 |$\\space$| 8.9349e-03 ($\\alpha$=0.75) |\n",
    "|<center>**fold 3**| 7.3502e-03 | **7.0785e-03** | 7.1673e-03 | 7.3637e-03 | 1.0454e-02 |$\\space$| 7.3502e-03 ($\\alpha$=0.00) |\n",
    "|<center>**fold 4**| 7.1960e-03 | 7.6127e-03 | **7.4357e-03** | 8.1674e-03 | 1.0308e-02 |$\\space$| 7.6127e-03 ($\\alpha$=0.25) |\n",
    "|<center>**Average**<br> $\\space$|8.2070e-03 |8.0049e-03 |**7.9528e-03** | 8.2773e-03| 1.1603e-02|$\\space$|8.0342e-03 |\n",
    "\n",
    "***\n",
    "\n",
    "filename: \n",
    "- Heston_4_l_10_n_1_constant_fitsolver_alpha_1_rep_v(with_train)\n",
    "- Ht_4_l_10_n_%d_fold_constant_fitsolver_rep_v(with_train)\n"
   ]
  },
  {
   "cell_type": "markdown",
   "metadata": {},
   "source": [
    "# GARCH\n",
    "## 4 l 10 n:\n",
    "\n",
    "\n",
    "|<center>**$\\alpha$** | <center>**0**  |<center>**0.25**  |<center>**0.50**  |<center>**0.75**  |<center>**1**  |$\\space$|<center>**CV**|\n",
    "|:----------------:|:---:|:---:|:---:|:---:|:---:|:---:|:---:|\n",
    "|$\\space$ <br> $\\space$ | <center>**L2 error $u_{test}$**|<center>**L2 error $u_{test}$**|<center>**L2 error $u_{test}$**|<center>**L2 error $u_{test}$**|<center>**L2 error $u_{test}$**|$\\space$|<center>**L2 error $u_{test}$**|\n",
    "|<center>**fold 1**| 8.6771e-03 |8.4913e-03 |**8.4891e-03**|9.1125e-03|1.0956e-02 |$\\space$|8.4913e-03 ($\\alpha$ =0.25) |\n",
    "|<center>**fold 2**| 8.6158e-03 |8.3092e-03 |**7.7739e-03**|1.0260e-02|1.3038e-02 |$\\space$|7.7739e-03 ($\\alpha$ =0.50) |\n",
    "|<center>**fold 3**| 7.4351e-03 |**7.1228e-03** |7.2755e-03|7.7529e-03|9.9604e-03 |$\\space$|7.1228e-03 ($\\alpha$ =0.25) |\n",
    "|<center>**fold 4**| 7.6803e-03 |**7.1818e-03** |7.9905e-03|9.1973e-03|9.5339e-03 |$\\space$|7.6803e-03 ($\\alpha$ =0.00) |\n",
    "|<center>**Average**<br> $\\space$| 8.1212e-03|**7.8011e-03** |7.8981e-03 | 9.1285e-03| 1.0950e-02|$\\space$|7.7851e-03 |\n",
    "\n",
    "***\n",
    "\n",
    "filename: \n",
    "- GARCH_4_l_10_n_1_constant_fitsolver_alpha_1_rep_v(with_train)\n",
    "- GARCH_4_l_10_n_%d_fold_constant_fitsolver_rep_v(with_train)\n"
   ]
  },
  {
   "cell_type": "markdown",
   "metadata": {},
   "source": [
    "# 3/2\n",
    "## 4 l 10 n:\n",
    "\n",
    "|<center>**$\\alpha$** | <center>**0**  |<center>**0.25**  |<center>**0.50**  |<center>**0.75**  |<center>**1**  |$\\space$|<center>**CV**|\n",
    "|:----------------:|:---:|:---:|:---:|:---:|:---:|:---:|:---:|\n",
    "|$\\space$ <br> $\\space$ | <center>**L2 error $u_{test}$**|<center>**L2 error $u_{test}$**|<center>**L2 error $u_{test}$**|<center>**L2 error $u_{test}$**|<center>**L2 error $u_{test}$**|$\\space$|<center>**L2 error $u_{test}$**|\n",
    "|<center>**fold 1**| 1.0636e-02 | 1.0425e-02| **9.5941e-03**|1.1471e-02 | 1.2895e-02|$\\space$| 1.0636e-02 ($\\alpha$ = 0.00)|\n",
    "|<center>**fold 2**| 1.1524e-02 | 1.1652e-02| **1.0953e-02**|1.1767e-02 | 1.6174e-02|$\\space$| 1.0953e-02 ($\\alpha$ = 0.50)|\n",
    "|<center>**fold 3**| 9.9073e-03 | **9.3448e-03**| 9.4368e-03|9.7048e-03 | 1.2644e-02|$\\space$| 9.9073e-03 ($\\alpha$ = 0.00)|\n",
    "|<center>**fold 4**| 9.6154e-03 | **8.7806e-03**| 9.6363e-03|1.0769e-02 | 1.3792e-02|$\\space$| 9.6363e-03 ($\\alpha$ = 0.50)|\n",
    "|<center>**Average**<br> $\\space$|1.0443e-02 | 1.0105e-02| **9.9226e-03**| 1.0960e-02|1.3947e-02 |$\\space$|1.0295e-02 |\n",
    "\n",
    "***\n",
    "\n",
    "filename: \n",
    "- Three_half_4_l_10_n_1_constant_fitsolver_alpha_1_rep_v(with_train)\n",
    "- Three_half_4_l_10_n_%d_fold_constant_fitsolver_rep_v(with_train)\n"
   ]
  },
  {
   "cell_type": "markdown",
   "metadata": {},
   "source": [
    "# CEV\n",
    "## 4 l 10 n:\n",
    "\n",
    "|<center>**$\\alpha$** | <center>**0**  |<center>**0.25**  |<center>**0.50**  |<center>**0.75**  |<center>**1**  |$\\space$|<center>**CV**|\n",
    "|:----------------:|:---:|:---:|:---:|:---:|:---:|:---:|:---:|\n",
    "|$\\space$ <br> $\\space$ | <center>**L2 error $u_{test}$**|<center>**L2 error $u_{test}$**|<center>**L2 error $u_{test}$**|<center>**L2 error $u_{test}$**|<center>**L2 error $u_{test}$**|$\\space$|<center>**L2 error $u_{test}$**|\n",
    "|**fold 1**| 4.9644e-03 | 4.6011e-03 | 4.4262e-03 | 4.8095e-03 | **4.0540e-03** |$\\space$|4.9644e-03 ($\\alpha$ = 0.00)|\n",
    "|**fold 2**| 1.0930e-02 | 1.1934e-02 | **1.0780e-02** | 1.2149e-02 | 1.5062e-02 |$\\space$|1.2149e-02 ($\\alpha$ = 0.75)|\n",
    "|**fold 3**| 4.6162e-03 | 4.5380e-03 | 4.3325e-03 | **4.3154e-03** | 5.4242e-03 |$\\space$|4.3154e-03 ($\\alpha$ = 0.75)|\n",
    "|**fold 4**| 9.6340e-03 | 8.5247e-03 | **7.6217e-03** | 8.3005e-03 | 9.2731e-03 |$\\space$|7.6217e-03 ($\\alpha$ = 0.50)|\n",
    "|**Average**<br> $\\space$| 8.0027e-03 | 7.9331e-03 | **7.2184e-03** | 7.9468e-03 | 9.3291e-03 |$\\space$|<center>7.7882e-03|\n",
    "\n",
    "***\n",
    "\n",
    "filename:\n",
    "- CEV_4_l_10_n_1_fold_constant_fitsolver_alpha_1_rep\n",
    "- CEV_4_l_10_n_1_fold_constant_fitsolver_rep\n"
   ]
  },
  {
   "cell_type": "markdown",
   "metadata": {},
   "source": [
    "# <span style=\"background-color:lightblue\">DATA-DRIVEN nn</span>"
   ]
  },
  {
   "cell_type": "markdown",
   "metadata": {},
   "source": [
    "## Black Scholes\n",
    "## 4 l 10 n:\n",
    "\n",
    "|<center>**$\\alpha$** | <center>**0**  |<center>**0.25**  |<center>**0.50**  |<center>**0.75**  |<center>**1**  |$\\space$|<center>**CV**|\n",
    "|:----------------:|:---:|:---:|:---:|:---:|:---:|:---:|:---:|\n",
    "|$\\space$ <br> $\\space$ | <center>**L2 error $u_{test}$**|<center>**L2 error $u_{test}$**|<center>**L2 error $u_{test}$**|<center>**L2 error $u_{test}$**|<center>**L2 error $u_{test}$**|$\\space$|<center>**L2 error $u_{test}$**|\n",
    "|**fold 1**| 7.0060e-02 | 6.3903e-03 | 4.1741e-03 | **4.0500e-03** | 4.4134e-03 |$\\space$|4.0500e-03 ($\\alpha$ = 0.75)|\n",
    "|**fold 2**| 6.8568e-02 | **8.1323e-03** | 9.6006e-03 | 8.4641e-03 | 1.4593e-02 |$\\space$|9.6006e-03 ($\\alpha$ = 0.50)|\n",
    "|**fold 3**| 7.0409e-02 | 5.4120e-03 | 4.2913e-03 | **3.8345e-03** | 3.8462e-03 |$\\space$|3.8345e-03 ($\\alpha$ = 0.75)|\n",
    "|**fold 4**| 7.0335e-02 | 7.3788e-03 | **5.1989e-03** | 6.1204e-03 | 1.0567e-02 |$\\space$|6.1204e-03 ($\\alpha$ = 0.75)|\n",
    "|**Average**<br> $\\space$| 6.9876e-02 | 6.8941e-03 | 6.1312e-03 | **5.8684e-03** | 9.3743e-03 |$\\space$|<center>6.2616e-03|\n",
    "\n",
    "\n",
    "filename:\n",
    "- BS_4_l_10_n_1_fold_nn_fitsolver_alpha_1_rep\n",
    "- BS_4_l_10_n_1_fold_nn_fitsolver_rep\n",
    "\n",
    "***\n"
   ]
  },
  {
   "cell_type": "markdown",
   "metadata": {},
   "source": [
    "# Heston\n",
    "## 4 l 10 n:\n",
    "\n",
    "\n",
    "|<center>**$\\alpha$** | <center>**0**  |<center>**0.25**  |<center>**0.50**  |<center>**0.75**  |<center>**1**  |$\\space$|<center>**CV**|\n",
    "|:----------------:|:---:|:---:|:---:|:---:|:---:|:---:|:---:|\n",
    "|$\\space$ <br> $\\space$ | <center>**L2 error $u_{test}$**|<center>**L2 error $u_{test}$**|<center>**L2 error $u_{test}$**|<center>**L2 error $u_{test}$**|<center>**L2 error $u_{test}$**|$\\space$|<center>**L2 error $u_{test}$**|\n",
    "|<center>**fold 1**| 1.5069e-02 |7.8864e-03|7.5454e-03|**7.3747e-03**|1.0542e-02|$\\space$|7.5454e-03 ($\\alpha$ = 0.50) |\n",
    "|<center>**fold 2**| 1.6696e-02 |8.9190e-03|8.5958e-03|**8.0885e-03**|1.4579e-02|$\\space$|8.5958e-03 ($\\alpha$ = 0.50) |\n",
    "|<center>**fold 3**| 1.7753e-02 |7.3369e-03|7.6126e-03|**7.3072e-03**|1.0453e-02|$\\space$|7.3369e-03 ($\\alpha$ = 0.25) |\n",
    "|<center>**fold 4**| 2.4257e-02 |8.2366e-03|**7.5014e-03**|7.6956e-03|1.0308e-02|$\\space$|7.5014e-03 ($\\alpha$ = 0.50) |\n",
    "|<center>**Average**<br> $\\space$| 1.8809e-02|8.1177e-03|7.8248e-03 |**7.6237e-03** | 1.1603e-02|$\\space$| 7.7599e-03|\n",
    "\n",
    "***\n",
    "\n",
    "filename: \n",
    "- Ht_4_l_10_n_1_fold_nn_fitsolver_alpha_1_rep_v(with_train)\n",
    "- Heston_4_l_10_n_%d_fold_nn_fitsolver_rep_v(with_train)\n"
   ]
  },
  {
   "cell_type": "markdown",
   "metadata": {},
   "source": [
    "# GARCH\n",
    "## 4 l 10 n:\n",
    "\n",
    "\n",
    "|<center>**$\\alpha$** | <center>**0**  |<center>**0.25**  |<center>**0.50**  |<center>**0.75**  |<center>**1**  |$\\space$|<center>**CV**|\n",
    "|:----------------:|:---:|:---:|:---:|:---:|:---:|:---:|:---:|\n",
    "|$\\space$ <br> $\\space$ | <center>**L2 error $u_{test}$**|<center>**L2 error $u_{test}$**|<center>**L2 error $u_{test}$**|<center>**L2 error $u_{test}$**|<center>**L2 error $u_{test}$**|$\\space$|<center>**L2 error $u_{test}$**|\n",
    "|<center>**fold 1**| 1.4044e-02 |8.4103e-03 | **7.4875e-03**|7.5510e-03|1.0956e-02|$\\space$| 7.4875e-03 ($\\alpha$ = 0.50)|\n",
    "|<center>**fold 2**| 1.5950e-02 |8.6815e-03 | 8.2134e-03|**8.0513e-03**|1.3038e-02|$\\space$| 8.2134e-03 ($\\alpha$ = 0.50)|\n",
    "|<center>**fold 3**| 1.9157e-02 |**7.2167e-03** | 7.5011e-03|7.2610e-03|9.9604e-03|$\\space$| 7.2167e-03 ($\\alpha$ = 0.25)|\n",
    "|<center>**fold 4**| 1.9178e-02 |8.2679e-03 | **7.3742e-03**|7.5930e-03|9.5339e-03|$\\space$| 7.3742e-03 ($\\alpha$ = 0.50)|\n",
    "|<center>**Average**<br> $\\space$| 1.7224e-02| 8.1670e-03| 7.6495e-03| **7.6201e-03**| 1.0950e-02|$\\space$| 7.5820e-03|\n",
    "\n",
    "***\n",
    "\n",
    "filename: \n",
    "- GARCH_4_l_10_n_1_fold_nn_fitsolver_alpha_1_rep_v(with_train)\n",
    "- GARCH_4_l_10_n_%d_fold_nn_fitsolver_rep_v(with_train)\n"
   ]
  },
  {
   "cell_type": "markdown",
   "metadata": {},
   "source": [
    "# 3/2\n",
    "## 4 l 10 n:\n",
    "\n",
    "|<center>**$\\alpha$** | <center>**0**  |<center>**0.25**  |<center>**0.50**  |<center>**0.75**  |<center>**1**  |$\\space$|<center>**CV**|\n",
    "|:----------------:|:---:|:---:|:---:|:---:|:---:|:---:|:---:|\n",
    "|$\\space$ <br> $\\space$ | <center>**L2 error $u_{test}$**|<center>**L2 error $u_{test}$**|<center>**L2 error $u_{test}$**|<center>**L2 error $u_{test}$**|<center>**L2 error $u_{test}$**|$\\space$|<center>**L2 error $u_{test}$**|\n",
    "|<center>**fold 1**| 2.5048e-02 | 9.9203e-03|**8.5212e-03**|9.0432e-03|1.2895e-02 |$\\space$|8.5212e-03 ($\\alpha$ = 0.50) |\n",
    "|<center>**fold 2**| 2.4752e-02 | 9.8468e-03|**9.0338e-03**|9.6800e-03|1.6174e-02 |$\\space$|9.0338e-03 ($\\alpha$ = 0.50) |\n",
    "|<center>**fold 3**| 2.6909e-02 | 9.4834e-03|8.7379e-03|**8.6061e-03**|1.2644e-02 |$\\space$|9.4834e-03 ($\\alpha$ = 0.25) |\n",
    "|<center>**fold 4**| 3.2313e-02 | 9.8154e-03|**9.0361e-03**|9.2200e-03|1.3792e-02 |$\\space$|9.0361e-03 ($\\alpha$ = 0.50) |\n",
    "|<center>**Average**<br> $\\space$| 2.7456e-02| 9.7694e-03|**8.8359e-03**| 9.1473e-03|1.3947e-02 |$\\space$|9.0226e-03 |\n",
    "\n",
    "***\n",
    "\n",
    "filename: \n",
    "- Three_half_4_l_10_n_1_fold_nn_fitsolver_alpha_1_rep_v(with_train)\n",
    "- Three_half_4_l_10_n_%d_fold_nn_fitsolver_rep_v(with_train)\n"
   ]
  },
  {
   "cell_type": "markdown",
   "metadata": {},
   "source": [
    "## CEV\n",
    "## 4 l 10 n:\n",
    "\n",
    "\n",
    "|<center>**$\\alpha$** | <center>**0**  |<center>**0.25**  |<center>**0.50**  |<center>**0.75**  |<center>**1**  |$\\space$|<center>**CV**|\n",
    "|:----------------:|:---:|:---:|:---:|:---:|:---:|:---:|:---:|\n",
    "|$\\space$ <br> $\\space$ | <center>**L2 error $u_{test}$**|<center>**L2 error $u_{test}$**|<center>**L2 error $u_{test}$**|<center>**L2 error $u_{test}$**|<center>**L2 error $u_{test}$**|$\\space$|<center>**L2 error $u_{test}$**|\n",
    "|**fold 1**| 6.9978e-02 | 6.4740e-03 | 4.7895e-03 | 4.7264e-03 | **4.0540e-03** |$\\space$|4.7895e-03 ($\\alpha$ = 0.50)|\n",
    "|**fold 2**| 6.8642e-02 | 8.0309e-03 | 8.4701e-03 | **8.0050e-03** | 1.5062e-02 |$\\space$|8.4701e-03 ($\\alpha$ = 0.50)|\n",
    "|**fold 3**| 7.0399e-02 | 5.6217e-03 | **3.3013e-03** | 3.4129e-03 | 5.4242e-03 |$\\space$|5.6217e-03 ($\\alpha$ = 0.25)|\n",
    "|**fold 4**| 7.0591e-02 | **4.9342e-03** | 8.2095e-03 | 5.3888e-03 | 9.2731e-03 |$\\space$|8.2095e-03 ($\\alpha$ = 0.50)|\n",
    "|**Average**<br> $\\space$| 6.9938e-02 | 6.3211e-03 | 6.5727e-03 | **5.5870e-03** | 9.3291e-03 |$\\space$|<center>6.9462e-03|\n",
    "\n",
    "filename:\n",
    "- CEV_4_l_10_n_1_fold_nn_fitsolver_alpha_1_rep\n",
    "- CEV_4_l_10_n_1_fold_nn_fitsolver_rep\n",
    "\n",
    "***"
   ]
  },
  {
   "cell_type": "markdown",
   "metadata": {},
   "source": [
    "## Calculate $L_2$ error"
   ]
  },
  {
   "cell_type": "code",
   "execution_count": 124,
   "metadata": {},
   "outputs": [
    {
     "name": "stdout",
     "output_type": "stream",
     "text": [
      "2.4251e-03 (α = 0.50)\n",
      "4.0714e-03 (α = 0.25)\n",
      "3.4115e-03 (α = 0.50)\n",
      "4.9890e-03 (α = 0.75)\n",
      "3.8523e-03\n"
     ]
    }
   ],
   "source": [
    "import pickle\n",
    "import numpy as np\n",
    "\n",
    "Total_error_u_test_num = 0\n",
    "Total_error_u_test_den = 0\n",
    "\n",
    "for j in range(1,5):\n",
    "    file = open('Three_half_4_l_10_n_%d_fold_nn_fitsolver_rep'%(j),'rb')\n",
    "    data = pickle.load(file)\n",
    "    file.close()\n",
    "    \n",
    "    u_test_tot = data['u_test_tot']\n",
    "    u_test_pred = data['u_test_pred']\n",
    "    K_test_tot = data['K_test_tot']\n",
    "    alpha_opt = data['alpha']\n",
    "    \n",
    "    error_u_test_num = (np.linalg.norm(u_test_tot*K_test_tot-u_test_pred*K_test_tot))**2\n",
    "    error_u_test_den = (np.linalg.norm(u_test_tot*K_test_tot))**2\n",
    "    print('%.4e '%np.sqrt(error_u_test_num/error_u_test_den) + '(\\u03B1 = %.2f)'%alpha_opt)\n",
    "    #print('alpha_opt = %s'%alpha_opt)\n",
    "    #print('\\n')\n",
    "    Total_error_u_test_num += error_u_test_num\n",
    "    Total_error_u_test_den += error_u_test_den\n",
    "    \n",
    "print('%.4e'%np.sqrt(Total_error_u_test_num/Total_error_u_test_den))\n",
    "\n"
   ]
  },
  {
   "cell_type": "code",
   "execution_count": 120,
   "metadata": {
    "scrolled": false
   },
   "outputs": [
    {
     "name": "stdout",
     "output_type": "stream",
     "text": [
      "| 5.1468e-03 | 3.2636e-03 | 3.0713e-03 | 3.0343e-03 | 2.7001e-03 |\n",
      "| 1.7162e-02 | 4.0882e-03 | 5.2898e-03 | 5.9936e-03 | 6.3280e-03 |\n",
      "| 4.1682e-03 | 3.9305e-03 | 3.4781e-03 | 3.3489e-03 | 3.6397e-03 |\n",
      "| 1.1182e-02 | 3.4723e-03 | 3.6341e-03 | 4.4980e-03 | 7.7728e-03 |\n",
      "| 1.0621e-02 | 3.6885e-03 | 3.9241e-03 | 4.3409e-03 | 5.5246e-03 |\n"
     ]
    }
   ],
   "source": [
    "import pickle\n",
    "import numpy as np\n",
    "for i in range(1,5):\n",
    "    \n",
    "    Total_error_u_test_num = 0\n",
    "    Total_error_u_test_den = 0\n",
    "    error_bar = '|'\n",
    "    for j in range(1,6):\n",
    "        file = open('Three_half_4_l_10_n_%d_constant_fitsolver_alpha_%d_rep'%(i,j),'rb')\n",
    "        data = pickle.load(file)\n",
    "        file.close()\n",
    "        \n",
    "        u_test_tot = data['u_test_tot']\n",
    "        u_test_pred = data['u_test_pred']\n",
    "        K_test_tot = data['K_test_tot']\n",
    "        \n",
    "        error_u_test_num = (np.linalg.norm(u_test_tot*K_test_tot-u_test_pred*K_test_tot))**2\n",
    "        error_u_test_den = (np.linalg.norm(u_test_tot*K_test_tot))**2\n",
    "        error = ' %.4e |'%np.sqrt(error_u_test_num/error_u_test_den)\n",
    "        #print('%.4e |'%np.sqrt(error_u_test_num/error_u_test_den))\n",
    "        \n",
    "        error_bar = error_bar + error\n",
    "        \n",
    "        #print(error_bar)\n",
    "        \n",
    "        #Total_error_u_test_num += error_u_test_num\n",
    "        #Total_error_u_test_den += error_u_test_den\n",
    "        \n",
    "    #error_bar = error_bar + ' %.4e |'%np.sqrt(Total_error_u_test_num/Total_error_u_test_den)\n",
    "    print(error_bar)\n",
    "    #print('%.4e'%np.sqrt(Total_error_u_test_num/Total_error_u_test_den))\n",
    "    #print('\\n')\n",
    "    \n",
    "import pickle\n",
    "import numpy as np\n",
    "error_bar = '|'\n",
    "for i in range(1,6):\n",
    "    \n",
    "    Total_error_u_test_num = 0\n",
    "    Total_error_u_test_den = 0\n",
    "    \n",
    "    for j in range(1,5):\n",
    "        file = open('Three_half_4_l_10_n_%d_constant_fitsolver_alpha_%d_rep'%(j,i),'rb')\n",
    "        data = pickle.load(file)\n",
    "        file.close()\n",
    "        \n",
    "        u_test_tot = data['u_test_tot']\n",
    "        u_test_pred = data['u_test_pred']\n",
    "        K_test_tot = data['K_test_tot']\n",
    "        \n",
    "        error_u_test_num = (np.linalg.norm(u_test_tot*K_test_tot-u_test_pred*K_test_tot))**2\n",
    "        error_u_test_den = (np.linalg.norm(u_test_tot*K_test_tot))**2\n",
    "        \n",
    "        Total_error_u_test_num += error_u_test_num\n",
    "        Total_error_u_test_den += error_u_test_den\n",
    "    error = ' %.4e |'%np.sqrt(Total_error_u_test_num/Total_error_u_test_den)\n",
    "    error_bar = error_bar + error\n",
    "print(error_bar)\n"
   ]
  },
  {
   "cell_type": "code",
   "execution_count": 34,
   "metadata": {
    "collapsed": true
   },
   "outputs": [
    {
     "name": "stdout",
     "output_type": "stream",
     "text": [
      "3.1343e-03\n",
      "4.8403e-03\n",
      "3.4696e-03\n",
      "4.3566e-03\n",
      "3.9959e-03\n",
      "\n",
      "\n",
      "2.8967e-03\n",
      "4.7137e-03\n",
      "3.2839e-03\n",
      "3.8565e-03\n",
      "3.7304e-03\n",
      "\n",
      "\n",
      "2.6130e-03\n",
      "5.8310e-03\n",
      "3.0043e-03\n",
      "3.5663e-03\n",
      "3.9048e-03\n",
      "\n",
      "\n",
      "2.3988e-03\n",
      "5.9128e-03\n",
      "3.0805e-03\n",
      "4.7414e-03\n",
      "4.2324e-03\n",
      "\n",
      "\n",
      "2.9918e-03\n",
      "8.3947e-03\n",
      "3.3601e-03\n",
      "3.4795e-03\n",
      "4.9653e-03\n",
      "\n",
      "\n"
     ]
    }
   ],
   "source": [
    "import pickle\n",
    "import numpy as np\n",
    "for i in range(1,6):\n",
    "    \n",
    "    Total_error_u_test_num = 0\n",
    "    Total_error_u_test_den = 0\n",
    "\n",
    "    for j in range(1,5):\n",
    "        file = open('BS_4_l_20_n_%d_fold_constant_fitsolver_alpha_%d_rep'%(j,i),'rb')\n",
    "        data = pickle.load(file)\n",
    "        file.close()\n",
    "        \n",
    "        u_test_tot = data['u_test_tot']\n",
    "        u_test_pred = data['u_test_pred']\n",
    "        K_test_tot = data['K_test_tot']\n",
    "        \n",
    "        error_u_test_num = (np.linalg.norm(u_test_tot*K_test_tot-u_test_pred*K_test_tot))**2\n",
    "        error_u_test_den = (np.linalg.norm(u_test_tot*K_test_tot))**2\n",
    "        print('%.4e'%np.sqrt(error_u_test_num/error_u_test_den))\n",
    "        \n",
    "        Total_error_u_test_num += error_u_test_num\n",
    "        Total_error_u_test_den += error_u_test_den\n",
    "        \n",
    "    print('%.4e'%np.sqrt(Total_error_u_test_num/Total_error_u_test_den))\n",
    "    print('\\n')\n"
   ]
  }
 ],
 "metadata": {
  "kernelspec": {
   "display_name": "Python 3",
   "language": "python",
   "name": "python3"
  },
  "language_info": {
   "codemirror_mode": {
    "name": "ipython",
    "version": 3
   },
   "file_extension": ".py",
   "mimetype": "text/x-python",
   "name": "python",
   "nbconvert_exporter": "python",
   "pygments_lexer": "ipython3",
   "version": "3.7.4"
  }
 },
 "nbformat": 4,
 "nbformat_minor": 2
}
